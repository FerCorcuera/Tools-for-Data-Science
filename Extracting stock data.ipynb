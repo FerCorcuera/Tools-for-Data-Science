{
 "cells": [
  {
   "cell_type": "markdown",
   "id": "f1bfce07-a195-4060-9b52-4bc3e60f9cfe",
   "metadata": {},
   "source": [
    "<h1>Extracting and Visualizing Stock Data</h1>\n",
    "<h2>Description</h2>\n"
   ]
  },
  {
   "cell_type": "markdown",
   "id": "7e6a259e-54d7-4f69-a52f-8f479dc4a918",
   "metadata": {},
   "source": [
    "Extracting essential data from a dataset and displaying it is a necessary part of data science; therefore individuals can make correct decisions based on the data. In this assignment, you will extract some stock data, you will then display this data in a graph.\n"
   ]
  },
  {
   "cell_type": "code",
   "execution_count": null,
   "id": "0a89e4c7-bdcb-42c0-ae24-08fb46b23647",
   "metadata": {},
   "outputs": [],
   "source": [
    "!pip install yfinance\n",
    "!pip install bs4\n",
    "!pip install nbformat"
   ]
  },
  {
   "cell_type": "code",
   "execution_count": null,
   "id": "d2db190a-cf90-48a5-affd-ab9943183774",
   "metadata": {},
   "outputs": [],
   "source": [
    "import yfinance as yf\n",
    "import pandas as pd\n",
    "import requests\n",
    "from bs4 import BeautifulSoup\n",
    "import plotly.graph_objects as go\n",
    "from plotly.subplots import make_subplots"
   ]
  },
  {
   "cell_type": "code",
   "execution_count": null,
   "id": "1216b0ad-7f7c-44a8-913c-948faa1982ad",
   "metadata": {},
   "outputs": [],
   "source": [
    "import warnings\n",
    "# Ignore all warnings\n",
    "warnings.filterwarnings(\"ignore\", category=FutureWarning)"
   ]
  },
  {
   "cell_type": "markdown",
   "id": "584f3c98-8c38-40ff-820c-d773f167f69a",
   "metadata": {},
   "source": [
    "## Define Graphing Function\n"
   ]
  },
  {
   "cell_type": "markdown",
   "id": "2666edd0-c45e-4680-92f8-3030cd6e02a7",
   "metadata": {},
   "source": [
    "In this section, we define the function `make_graph`.\n"
   ]
  },
  {
   "cell_type": "code",
   "execution_count": null,
   "id": "41ebb861-8ae1-430c-9cff-06afde64af78",
   "metadata": {},
   "outputs": [],
   "source": [
    "def make_graph(stock_data, revenue_data, stock):\n",
    "    fig = make_subplots(rows=2, cols=1, shared_xaxes=True, subplot_titles=(\"Historical Share Price\", \"Historical Revenue\"), vertical_spacing = .3)\n",
    "    stock_data_specific = stock_data[stock_data.Date <= '2021-06-14']\n",
    "    revenue_data_specific = revenue_data[revenue_data.Date <= '2021-04-30']\n",
    "    fig.add_trace(go.Scatter(x=pd.to_datetime(stock_data_specific.Date, infer_datetime_format=True), y=stock_data_specific.Close.astype(\"float\"), name=\"Share Price\"), row=1, col=1)\n",
    "    fig.add_trace(go.Scatter(x=pd.to_datetime(revenue_data_specific.Date, infer_datetime_format=True), y=revenue_data_specific.Revenue.astype(\"float\"), name=\"Revenue\"), row=2, col=1)\n",
    "    fig.update_xaxes(title_text=\"Date\", row=1, col=1)\n",
    "    fig.update_xaxes(title_text=\"Date\", row=2, col=1)\n",
    "    fig.update_yaxes(title_text=\"Price ($US)\", row=1, col=1)\n",
    "    fig.update_yaxes(title_text=\"Revenue ($US Millions)\", row=2, col=1)\n",
    "    fig.update_layout(showlegend=False,\n",
    "    height=900,\n",
    "    title=stock,\n",
    "    xaxis_rangeslider_visible=True)\n",
    "    fig.show()"
   ]
  },
  {
   "cell_type": "markdown",
   "id": "c5c976af-1317-48c3-94af-e4a0e12f45dc",
   "metadata": {},
   "source": [
    "## Use yfinance to Extract Stock Data\n"
   ]
  },
  {
   "cell_type": "markdown",
   "id": "86945f99-a8cb-4a80-a460-05c4105f7faa",
   "metadata": {},
   "source": [
    "Using the `Ticker` function enter the ticker symbol of the stock we want to extract data on to create a ticker object. The stock is Tesla and its ticker symbol is `TSLA`.\n"
   ]
  },
  {
   "cell_type": "code",
   "execution_count": null,
   "id": "1fb6f789-c6dc-4ff7-b76e-5023c380ccda",
   "metadata": {},
   "outputs": [],
   "source": [
    "tesla = yf.Ticker('TLSA')"
   ]
  },
  {
   "cell_type": "markdown",
   "id": "7cd635b4-779d-4af4-b2de-b050a529c91a",
   "metadata": {},
   "source": [
    "Using the ticker object and the function `history` extract stock information and save it in a dataframe named `tesla_data`."
   ]
  },
  {
   "cell_type": "code",
   "execution_count": null,
   "id": "9f6ef678-e90b-4359-bbd7-7f6acacc820d",
   "metadata": {},
   "outputs": [],
   "source": [
    "tesla_data = tesla.history(period =\"max\")"
   ]
  },
  {
   "cell_type": "markdown",
   "id": "5df7b64e-9692-4cb2-bc43-dd699d4188bf",
   "metadata": {},
   "source": [
    "**Reset the index** using the `reset_index(inplace=True)` function on the tesla_data DataFrame and display the first five rows of the `tesla_data` dataframe using the `head` function. \n"
   ]
  },
  {
   "cell_type": "code",
   "execution_count": null,
   "id": "186282ae-344a-435b-83f5-dbb4bf43173c",
   "metadata": {},
   "outputs": [],
   "source": [
    "tesla_data.reset_index(inplace=True)\n",
    "tesla_data.head()"
   ]
  },
  {
   "cell_type": "markdown",
   "id": "c35704c9-45ef-4051-8fa4-5cc2aa44d7e8",
   "metadata": {},
   "source": [
    "## Use Webscraping to Extract Tesla Revenue Data\n"
   ]
  },
  {
   "cell_type": "code",
   "execution_count": null,
   "id": "6ce9cbbb-560d-4973-a051-b3640648f243",
   "metadata": {},
   "outputs": [],
   "source": [
    "URL = \" https://cf-courses-data.s3.us.cloud-object-storage.appdomain.cloud/IBMDeveloperSkillsNetwork-PY0220EN-SkillsNetwork/labs/project/revenue.htm\"\n",
    "response = requests.get(URL)\n",
    "html_data = response.text"
   ]
  },
  {
   "cell_type": "markdown",
   "id": "0b60dcd3-4243-46bf-bf6b-de4e84a8bf70",
   "metadata": {},
   "source": [
    "Parse the html data using `beautiful_soup` using parser i.e `html5lib` or `html.parser`.\n"
   ]
  },
  {
   "cell_type": "code",
   "execution_count": null,
   "id": "e30831b4-877d-4544-8bbb-a8a905647696",
   "metadata": {},
   "outputs": [],
   "source": [
    "soup = BeautifulSoup(html_data,\"html5lib\")"
   ]
  },
  {
   "cell_type": "markdown",
   "id": "3c5ff348-f391-4349-bf2d-492e9e0ea121",
   "metadata": {},
   "source": [
    "Using `BeautifulSoup` or the `read_html` function extract the table with `Tesla Revenue` and store it into a dataframe named `tesla_revenue`. The dataframe should have columns `Date` and `Revenue`.\n"
   ]
  },
  {
   "cell_type": "code",
   "execution_count": null,
   "id": "50d142c9-9110-4d0b-824b-498cb55fff8a",
   "metadata": {},
   "outputs": [],
   "source": [
    "tesla_revenue = pd.DataFrame()\n",
    "table = soup.find_all(\"tbody\")[1]\n",
    "for row in table.find_all('tr'):\n",
    "    col = row.find_all('td')\n",
    "    date = col[0].text\n",
    "    revenue = col[1].text\n",
    "    tesla_revenue = pd.concat([tesla_revenue,pd.DataFrame({\"Date\":[date],\"Revenue\":[revenue]})],ignore_index=True)\n",
    "tesla_revenue"
   ]
  },
  {
   "cell_type": "code",
   "execution_count": null,
   "id": "e4b67129-364f-4b17-8f9b-36b1c6bc3186",
   "metadata": {},
   "outputs": [],
   "source": [
    "tesla_revenue[\"Revenue\"] = tesla_revenue['Revenue'].str.replace(',|\\$',\"\")"
   ]
  },
  {
   "cell_type": "code",
   "execution_count": null,
   "id": "7aac03ad-21b5-498d-b90d-c57848944f16",
   "metadata": {},
   "outputs": [],
   "source": [
    "tesla_revenue.dropna(inplace=True)\n",
    "\n",
    "tesla_revenue = tesla_revenue[tesla_revenue['Revenue'] != \"\"]"
   ]
  },
  {
   "cell_type": "markdown",
   "id": "4d954777-5d2f-4cec-b13b-272a63ba2ef8",
   "metadata": {},
   "source": [
    "Display the last 5 row of the `tesla_revenue` dataframe using the `tail` function."
   ]
  },
  {
   "cell_type": "code",
   "execution_count": null,
   "id": "01986b63-fb2e-40b5-8d6a-b8c37695de86",
   "metadata": {},
   "outputs": [],
   "source": [
    "tesla_revenue.tail()"
   ]
  },
  {
   "cell_type": "markdown",
   "id": "281c4134-d340-4568-9c94-4323495aad56",
   "metadata": {},
   "source": [
    "## Use yfinance to Extract Stock Data\n"
   ]
  },
  {
   "cell_type": "markdown",
   "id": "f5ceb140-5688-4719-abfa-e1371d8d78bc",
   "metadata": {},
   "source": [
    "Using the `Ticker` function enter the ticker symbol of the stock we want to extract data on to create a ticker object. The stock is GameStop and its ticker symbol is `GME`.\n"
   ]
  },
  {
   "cell_type": "code",
   "execution_count": null,
   "id": "e672f62c-d9d0-47c8-b466-5167b76e17bd",
   "metadata": {},
   "outputs": [],
   "source": [
    "gme = yf.Ticker('GME')"
   ]
  },
  {
   "cell_type": "markdown",
   "id": "ddde1c52-eb6a-42e6-aa58-bed17f600f02",
   "metadata": {},
   "source": [
    "Using the ticker object and the function `history` extract stock information and save it in a dataframe named `gme_data`. Set the `period` parameter to ` \"max\" ` so we get information for the maximum amount of time.\n"
   ]
  },
  {
   "cell_type": "code",
   "execution_count": null,
   "id": "b7df75a9-f8a9-4522-b436-d63bf6bc02f1",
   "metadata": {},
   "outputs": [],
   "source": [
    "gme_data = gme.history(period=\"max\")"
   ]
  },
  {
   "cell_type": "markdown",
   "id": "ea08aefc-a9b1-44b9-8667-1e25de3500ee",
   "metadata": {},
   "source": [
    "**Reset the index** using the `reset_index(inplace=True)` function on the gme_data DataFrame and display the first five rows of the `gme_data` dataframe using the `head` function. \n"
   ]
  },
  {
   "cell_type": "code",
   "execution_count": null,
   "id": "7b994503-4fe0-42c8-9812-6917fdc7647d",
   "metadata": {},
   "outputs": [],
   "source": [
    "gme_data.reset_index(inplace=True)\n",
    "gme_data.head()"
   ]
  },
  {
   "cell_type": "markdown",
   "id": "cafc753b-b0d8-48da-8fab-086cc1e7b097",
   "metadata": {},
   "source": [
    "## Question 4: Use Webscraping to Extract GME Revenue Data\n"
   ]
  },
  {
   "cell_type": "code",
   "execution_count": null,
   "id": "b13da1e0-a281-49b3-80ff-076d90524ab2",
   "metadata": {},
   "outputs": [],
   "source": [
    "url1 = \"https://cf-courses-data.s3.us.cloud-object-storage.appdomain.cloud/IBMDeveloperSkillsNetwork-PY0220EN-SkillsNetwork/labs/project/stock.html\"\n",
    "response1 = requests.get(url1).text"
   ]
  },
  {
   "cell_type": "markdown",
   "id": "dcfead37-a93a-4212-b6a5-853a3f0e3395",
   "metadata": {},
   "source": [
    "Parse the html data using `beautiful_soup` using parser i.e `html5lib` or `html.parser`.\n"
   ]
  },
  {
   "cell_type": "code",
   "execution_count": null,
   "id": "41700597-0742-4cb4-b400-f218bed49865",
   "metadata": {},
   "outputs": [],
   "source": [
    "html_data_2 = BeautifulSoup(response1,\"html5lib\")"
   ]
  },
  {
   "cell_type": "markdown",
   "id": "7eef12e4-4e24-4e6d-8f1b-251ba305f344",
   "metadata": {},
   "source": [
    "Using `BeautifulSoup` or the `read_html` function extract the table with `GameStop Revenue` and store it into a dataframe named `gme_revenue`. The dataframe should have columns `Date` and `Revenue`. Make sure the comma and dollar sign is removed from the `Revenue` column.\n"
   ]
  },
  {
   "cell_type": "code",
   "execution_count": null,
   "id": "0344a327-c02a-430f-b6ef-a5fbb9ebbfae",
   "metadata": {},
   "outputs": [],
   "source": [
    "table1 = html_data_2.find_all('tbody')[1]\n",
    "gme_revenue = pd.DataFrame()\n",
    "\n",
    "for Row in table1.find_all('tr'):\n",
    "    col = Row.find_all('td')\n",
    "    date = col[0].text\n",
    "    revenue = col[1].text\n",
    "    gme_revenue = pd.concat([gme_revenue,pd.DataFrame({\"Date\":[date],\"Revenue\":[revenue]})],ignore_index =True)\n",
    "\n",
    "gme_revenue[\"Revenue\"] = gme_revenue['Revenue'].str.replace(',|\\$', \"\", regex=True)\n",
    "\n",
    "gme_revenue\n"
   ]
  },
  {
   "cell_type": "markdown",
   "id": "6844901c-b454-4016-be54-bc86ee84bfd2",
   "metadata": {},
   "source": [
    "Display the last five rows of the `gme_revenue` dataframe using the `tail` function."
   ]
  },
  {
   "cell_type": "code",
   "execution_count": null,
   "id": "c486da23-2742-44b9-8392-2fb3e6f44162",
   "metadata": {},
   "outputs": [],
   "source": [
    "gme_revenue.tail()"
   ]
  },
  {
   "cell_type": "markdown",
   "id": "78436414-647b-4a6f-b843-27d7ed481f3a",
   "metadata": {},
   "source": [
    "## Question 5: Plot Tesla Stock Graph\n"
   ]
  },
  {
   "cell_type": "code",
   "execution_count": null,
   "id": "1e982bcc-13e3-4a50-b676-e5b3ce991a6c",
   "metadata": {},
   "outputs": [],
   "source": [
    "make_graph(tesla_data, tesla_revenue, 'Tesla')"
   ]
  },
  {
   "cell_type": "markdown",
   "id": "1f018fe1-56cd-4429-b43a-557a73d8a101",
   "metadata": {},
   "source": [
    "## Question 6: Plot GameStop Stock Graph\n"
   ]
  },
  {
   "cell_type": "markdown",
   "id": "22d5474d-8a90-48dd-899f-cd05aea3fa30",
   "metadata": {},
   "source": [
    "Use the `make_graph` function to graph the GameStop Stock Data, also provide a title for the graph. The structure to call the `make_graph` function is `make_graph(gme_data, gme_revenue, 'GameStop')`. Note the graph will only show data upto June 2021.\n"
   ]
  },
  {
   "cell_type": "code",
   "execution_count": null,
   "id": "18f845e4-f222-4f46-a87d-d44e63468a9d",
   "metadata": {},
   "outputs": [],
   "source": [
    "make_graph(gme_data,gme_revenue,'GameStop')"
   ]
  }
 ],
 "metadata": {
  "kernelspec": {
   "display_name": "Python 3 (ipykernel)",
   "language": "python",
   "name": "python3"
  },
  "language_info": {
   "codemirror_mode": {
    "name": "ipython",
    "version": 3
   },
   "file_extension": ".py",
   "mimetype": "text/x-python",
   "name": "python",
   "nbconvert_exporter": "python",
   "pygments_lexer": "ipython3",
   "version": "3.11.9"
  },
  "prev_pub_hash": "2394e43de8043319cad418d17eee53a62befece05145764d1d80fe8937a818b2"
 },
 "nbformat": 4,
 "nbformat_minor": 4
}
